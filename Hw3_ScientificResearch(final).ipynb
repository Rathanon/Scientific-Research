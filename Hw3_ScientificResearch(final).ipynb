{
 "cells": [
  {
   "cell_type": "code",
   "execution_count": 14,
   "metadata": {},
   "outputs": [],
   "source": [
    "import numpy as np\n",
    "from matplotlib import pyplot as plt"
   ]
  },
  {
   "cell_type": "code",
   "execution_count": 15,
   "metadata": {},
   "outputs": [],
   "source": [
    "def randomGenderGenerator():\n",
    "    gender=np.random.binomial(1,0.5)\n",
    "    return gender"
   ]
  },
  {
   "cell_type": "code",
   "execution_count": 16,
   "metadata": {},
   "outputs": [],
   "source": [
    "#hospitals\n",
    "a = 15\n",
    "b = 45\n",
    "c = 100\n",
    "percentage = 60/100"
   ]
  },
  {
   "cell_type": "code",
   "execution_count": 20,
   "metadata": {},
   "outputs": [],
   "source": [
    "def hospA():\n",
    "    count = 0\n",
    "    i = 0\n",
    "    while(i<a):\n",
    "        count = count + randomGenderGenerator()\n",
    "        i=i+1\n",
    "    if (count >= (percentage*a)):\n",
    "        return 1 \n",
    "    else: \n",
    "        return 0\n",
    "    \n",
    "\n",
    "def hospB():\n",
    "    count = 0\n",
    "    j = 0\n",
    "    while(j<b):\n",
    "        count = count + randomGenderGenerator()\n",
    "        j=j+1\n",
    "    if (count >= (percentage*b)):\n",
    "        return 1 \n",
    "    else: \n",
    "        return 0\n",
    "\n",
    "\n",
    "def hospC():\n",
    "    count = 0\n",
    "    k = 0\n",
    "    while(k<c):\n",
    "        count = count + randomGenderGenerator()\n",
    "        k=k+1\n",
    "    if (count >= (percentage*c)):\n",
    "        return 1 \n",
    "    else: \n",
    "        return 0\n"
   ]
  },
  {
   "cell_type": "code",
   "execution_count": 27,
   "metadata": {},
   "outputs": [
    {
     "name": "stdout",
     "output_type": "stream",
     "text": [
      "Hospital A : 295\n",
      "Hospital B : 107\n",
      "Hospital C : 21\n",
      "The results show us that A has the highest results, hence suggests that the more lesser babies born per day, atleast 60% born will be boys\n"
     ]
    },
    {
     "data": {
      "image/png": "[encoded data removed]",
      "text/plain": [
       "<Figure size 432x288 with 1 Axes>"
      ]
     },
     "metadata": {
      "needs_background": "light"
     },
     "output_type": "display_data"
    }
   ],
   "source": [
    "\n",
    "def histo():\n",
    "    childrenA=0\n",
    "    childrenB=0\n",
    "    childrenC=0\n",
    "    for i in range(1000):\n",
    "        childrenA+=hospA()\n",
    "        childrenB+=hospB()\n",
    "        childrenC+=hospC()\n",
    "  \n",
    "    print(\"Hospital A :\",childrenA)\n",
    "    print(\"Hospital B :\",childrenB)\n",
    "    print(\"Hospital C :\",childrenC)\n",
    "    print(\"The results show us that A has the highest results, hence suggests that the more lesser babies born per day, atleast 60% born will be boys\")\n",
    "    fig = plt.figure()\n",
    "    ax = fig.add_axes([0,0,1,1])\n",
    "    H = ['A', 'B', 'C']\n",
    "    C = [childrenA,childrenB,childrenC]\n",
    "    ax.bar(H,C)\n",
    "    plt.show()\n",
    "histo()\n",
    "\n"
   ]
  },
  {
   "cell_type": "code",
   "execution_count": null,
   "metadata": {},
   "outputs": [],
   "source": []
  },
  {
   "cell_type": "code",
   "execution_count": null,
   "metadata": {},
   "outputs": [],
   "source": []
  }
 ],
 "metadata": {
  "kernelspec": {
   "display_name": "Python 3",
   "language": "python",
   "name": "python3"
  },
  "language_info": {
   "codemirror_mode": {
    "name": "ipython",
    "version": 3
   },
   "file_extension": ".py",
   "mimetype": "text/x-python",
   "name": "python",
   "nbconvert_exporter": "python",
   "pygments_lexer": "ipython3",
   "version": "3.7.4"
  }
 },
 "nbformat": 4,
 "nbformat_minor": 2
}
